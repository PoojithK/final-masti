{
  "nbformat": 4,
  "nbformat_minor": 0,
  "metadata": {
    "colab": {
      "provenance": [],
      "machine_shape": "hm"
    },
    "kernelspec": {
      "name": "python3",
      "display_name": "Python 3"
    },
    "accelerator": "GPU"
  },
  "cells": [
    {
      "cell_type": "code",
      "source": [
        "#Simple CNN model for CIFAR-10 dataset\n",
        "import numpy as np\n",
        "\n",
        "# Simple CNN model for CIFAR-10\n",
        "import numpy as np\n",
        "import os\n",
        "from keras.datasets import cifar10, cifar100\n",
        "from keras.models import Sequential\n",
        "from keras.layers import Dense, Conv2D\n",
        "from keras.layers import Dropout\n",
        "from keras.layers import Flatten\n",
        "from keras.constraints import maxnorm\n",
        "from keras.optimizers import SGD, Adam\n",
        "from keras.layers.convolutional import Convolution2D\n",
        "from keras.layers.convolutional import MaxPooling2D\n",
        "from keras.callbacks import ModelCheckpoint, LearningRateScheduler\n",
        "from keras.callbacks import ReduceLROnPlateau\n",
        "from keras.callbacks import EarlyStopping\n",
        "from keras.regularizers import l2\n",
        "from keras import backend as K\n",
        "\n",
        "from keras.utils import np_utils\n",
        "import matplotlib.pyplot as plt\n",
        "from keras.preprocessing.image import ImageDataGenerator\n",
        "%matplotlib inline\n",
        "\n",
        "import skimage\n",
        "from skimage.util import img_as_ubyte\n",
        "from sklearn.metrics import  ConfusionMatrixDisplay,confusion_matrix,classification_report"
      ],
      "metadata": {
        "id": "mJdUmIzZJlik"
      },
      "execution_count": 1,
      "outputs": []
    },
    {
      "cell_type": "code",
      "metadata": {
        "id": "k34XYTn_gbVF",
        "colab": {
          "base_uri": "https://localhost:8080/"
        },
        "outputId": "b71c8b73-85ef-4bf0-ef55-54131400a3ba"
      },
      "source": [
        "#Defining Variables\n",
        "\n",
        "#Data set information\n",
        "DATASET = 'cifar-10'\n",
        "#DATASET = 'cifar-100'\n",
        "input_shape=(32,32,3)\n",
        "\n",
        "if DATASET == 'cifar-10':\n",
        "  num_classes = 10\n",
        "elif DATASET == 'cifar-100':\n",
        "  num_classes = 100\n",
        "\n",
        "#Model Parameters\n",
        "\n",
        "model_type = 'Alexnet'\n",
        "#model_type = 'Resnet'\n",
        "validation_generator=None\n",
        "epochs = 25\n",
        "lrate = 0.01\n",
        "decay = lrate/epochs\n",
        "batch_size = 32\n",
        "\n",
        "data_augmentation = True\n",
        "flow_from_dir = False\n",
        "\n",
        "subtract_mean = True\n",
        "seed = 7\n",
        "np.random.seed(seed)\n",
        "\n",
        "validate_dir = os.path.join(\"data\",\"test\")\n",
        "train_dir = os.path.join(\"data\",\"train\")\n",
        "\n",
        "# Prepare model model saving directory.\n",
        "save_dir = os.path.join(os.getcwd(), 'saved_models')\n",
        "\n",
        "#model_name = 'cifar10_%s_model.{epoch:03d}.h5' % model_type\n",
        "model_name = DATASET+'_'+'%s_model.{epoch:03d}.h5' % model_type\n",
        "\n",
        "if not os.path.isdir(save_dir):\n",
        "    os.makedirs(save_dir)\n",
        "filepath = os.path.join(save_dir, model_name)\n",
        "print(\"Model Type: \",model_type)\n",
        "print(\"Model File: \",filepath)"
      ],
      "execution_count": 2,
      "outputs": [
        {
          "output_type": "stream",
          "name": "stdout",
          "text": [
            "Model Type:  Alexnet\n",
            "Model File:  /content/saved_models/cifar-10_Alexnet_model.{epoch:03d}.h5\n"
          ]
        }
      ]
    },
    {
      "cell_type": "code",
      "metadata": {
        "id": "BUmkHwlR4Bex"
      },
      "source": [
        "if flow_from_dir:\n",
        "  if DATASET == 'cifar-10':\n",
        "    %pip install cifar2png\n",
        "    %cifar2png cifar10 \"data\""
      ],
      "execution_count": 3,
      "outputs": []
    },
    {
      "cell_type": "code",
      "metadata": {
        "id": "pJ39ZC-BXg37",
        "outputId": "d18972c3-4b01-42db-f98c-22385b70eb0c",
        "colab": {
          "base_uri": "https://localhost:8080/",
          "height": 470
        }
      },
      "source": [
        "if not flow_from_dir:\n",
        "  #load data\n",
        "  if DATASET == 'cifar-10':\n",
        "    (X_train, y_train),(X_test,y_test) = cifar10.load_data()\n",
        "    X_train.shape, X_test.shape, X_train.shape[1:],X_train.dtype\n",
        "  elif DATASET == 'cifar-100':\n",
        "    (X_train, y_train),(X_test,y_test) = cifar100.load_data()\n",
        "    X_train.shape, X_test.shape, X_train.shape[1:],X_train.dtype\n",
        "\n",
        "  #Plot data\n",
        "  for i in range(0,9):\n",
        "    plt.subplot(330+1+i)\n",
        "    plt.imshow(X_train[i])\n",
        "  plt.show() \n",
        "  \n"
      ],
      "execution_count": 4,
      "outputs": [
        {
          "output_type": "stream",
          "name": "stdout",
          "text": [
            "Downloading data from https://www.cs.toronto.edu/~kriz/cifar-10-python.tar.gz\n",
            "170498071/170498071 [==============================] - 13s 0us/step\n"
          ]
        },
        {
          "output_type": "display_data",
          "data": {
            "text/plain": [
              "<Figure size 640x480 with 9 Axes>"
            ],
            "image/png": "[encoded data removed]"
          },
          "metadata": {}
        }
      ]
    },
    {
      "cell_type": "code",
      "metadata": {
        "id": "R_4A1KRAhfbe"
      },
      "source": [
        "def convert_to_imagenet_size(images):\n",
        "  tmp_images = []\n",
        "  for image in images:\n",
        "    image = skimage.transform.resize(image,(224,224),mode='constant')\n",
        "    image = img_as_ubyte(image)\n",
        "    tmp_images.append(image)\n",
        "  return np.array(tmp_images)"
      ],
      "execution_count": 5,
      "outputs": []
    },
    {
      "cell_type": "code",
      "metadata": {
        "id": "QVJcPP50W2ri",
        "colab": {
          "base_uri": "https://localhost:8080/"
        },
        "outputId": "5fe4dc80-4bc0-4acb-a5af-18d1f3a53173"
      },
      "source": [
        "#Data Normalization\n",
        "if not flow_from_dir:\n",
        "  if not data_augmentation:\n",
        "    X_train = X_train.astype('float32')\n",
        "    X_test = X_test.astype('float32')\n",
        "    X_train = X_train/255.\n",
        "    X_test = X_test/255.\n",
        "\n",
        "    if subtract_mean:\n",
        "      X_train_mean = np.mean(X_train)\n",
        "      X_train -= X_train_mean\n",
        "      X_test_mean = np.mean(X_test)\n",
        "      X_test -= X_test_mean\n",
        "\n",
        "  print(y_train.shape, y_test.shape)"
      ],
      "execution_count": 6,
      "outputs": [
        {
          "output_type": "stream",
          "name": "stdout",
          "text": [
            "(50000, 1) (10000, 1)\n"
          ]
        }
      ]
    },
    {
      "cell_type": "code",
      "metadata": {
        "id": "XerWb6T3YK-x",
        "outputId": "34538e18-2696-4dc5-f4f6-02aed4f2e6c8",
        "colab": {
          "base_uri": "https://localhost:8080/"
        }
      },
      "source": [
        "if not flow_from_dir:\n",
        "  y_train = np_utils.to_categorical(y_train)\n",
        "  y_test = np_utils.to_categorical(y_test)\n",
        "  print(y_train.shape, y_test.shape)"
      ],
      "execution_count": 7,
      "outputs": [
        {
          "output_type": "stream",
          "name": "stdout",
          "text": [
            "(50000, 10) (10000, 10)\n"
          ]
        }
      ]
    },
    {
      "cell_type": "code",
      "metadata": {
        "id": "PS86-ZpEZMUY",
        "outputId": "95bdc87b-6747-4d15-ecd0-adedf7ef59ae",
        "colab": {
          "base_uri": "https://localhost:8080/"
        }
      },
      "source": [
        "#num_classes = y_train.shape[1]\n",
        "#input_shape=X_train.shape[1:]\n",
        "\n",
        "input_shape,num_classes"
      ],
      "execution_count": 8,
      "outputs": [
        {
          "output_type": "execute_result",
          "data": {
            "text/plain": [
              "((32, 32, 3), 10)"
            ]
          },
          "metadata": {},
          "execution_count": 8
        }
      ]
    },
    {
      "cell_type": "code",
      "metadata": {
        "id": "hXFuLmd6bjpY"
      },
      "source": [
        "#Define Alexnet Model\n",
        "def AlexnetModel(input_shape,num_classes):\n",
        "  model = Sequential()\n",
        "  model.add(Conv2D(filters=96,kernel_size=(3,3),strides=(4,4),input_shape=input_shape, activation='relu'))\n",
        "  model.add(MaxPooling2D(pool_size=(2,2),strides=(2,2)))\n",
        "  model.add(Conv2D(256,(5,5),padding='same',activation='relu'))\n",
        "  model.add(MaxPooling2D(pool_size=(2,2),strides=(2,2)))\n",
        "  model.add(Conv2D(384,(3,3),padding='same',activation='relu'))\n",
        "  model.add(Conv2D(384,(3,3),padding='same',activation='relu'))\n",
        "  model.add(Conv2D(256,(3,3),padding='same',activation='relu'))\n",
        "  model.add(MaxPooling2D(pool_size=(2,2),strides=(2,2)))\n",
        "\n",
        "  model.add(Flatten())\n",
        "  model.add(Dense(4096, activation='relu'))\n",
        "  model.add(Dropout(0.4))\n",
        "  model.add(Dense(4096, activation='relu'))\n",
        "  model.add(Dropout(0.4))\n",
        "  model.add(Dense(num_classes,activation='softmax'))\n",
        "\n",
        "  #model.compile(optimizer='adam',loss='categorical_crossentropy',metrics=['accuracy'])\n",
        "\n",
        "  #model.summary()\n",
        "  return model"
      ],
      "execution_count": 9,
      "outputs": []
    },
    {
      "cell_type": "code",
      "metadata": {
        "id": "eRNzvi-qZXvl"
      },
      "source": [
        "def get_model(input_shape,num_classes):\n",
        "  # Create the model - Normal model with CNN, dropouts and MaxPooling.\n",
        "  # This model gives accuracy of 77% on the test set after 25 epochs\n",
        "\n",
        "  model = Sequential()\n",
        "\n",
        "  #model.add(Conv2D(32,(3,3),input_shape=(32,32,3),padding='same',activation='relu'))\n",
        "  model.add(Conv2D(32,(3,3),input_shape=input_shape,padding='same',activation='relu'))\n",
        "  model.add(Dropout(0.2))\n",
        "\n",
        "  model.add(Conv2D(32,(3,3),activation='relu',padding='same'))\n",
        "  model.add(MaxPooling2D(pool_size=(2,2)))\n",
        "\n",
        "  model.add(Conv2D(64,(3,3),activation='relu',padding='same'))\n",
        "  model.add(Dropout(0.2))\n",
        "\n",
        "  model.add(Conv2D(64,(3,3),activation='relu',padding='same'))\n",
        "  model.add(MaxPooling2D(pool_size=(2,2)))\n",
        "\n",
        "  model.add(Conv2D(128,(3,3),activation='relu',padding='same'))\n",
        "  model.add(Dropout(0.2))\n",
        "\n",
        "  model.add(Conv2D(128,(3,3),activation='relu',padding='same'))\n",
        "  model.add(MaxPooling2D(pool_size=(2,2)))\n",
        "\n",
        "  model.add(Flatten())\n",
        "  model.add(Dropout(0.2))\n",
        "\n",
        "  model.add(Dense(1024,activation='relu'))\n",
        "  model.add(Dropout(0.2))\n",
        "\n",
        "  model.add(Dense(512,activation='relu'))\n",
        "  model.add(Dropout(0.2))\n",
        "\n",
        "  model.add(Dense(num_classes,activation='softmax'))\n",
        "\n",
        "  return model\n",
        "\n"
      ],
      "execution_count": 10,
      "outputs": []
    },
    {
      "cell_type": "code",
      "metadata": {
        "id": "p2cGLs6n9l0L"
      },
      "source": [
        "def lr_schedule(epoch):\n",
        "    \"\"\"Learning Rate Schedule\n",
        "\n",
        "    Learning rate is scheduled to be reduced after 80, 120, 160, 180 epochs.\n",
        "    Called automatically every epoch as part of callbacks during training.\n",
        "\n",
        "    # Arguments\n",
        "        epoch (int): The number of epochs\n",
        "\n",
        "    # Returns\n",
        "        lr (float32): learning rate\n",
        "    \"\"\"\n",
        "    lr = 1e-3\n",
        "    if epoch > 180:\n",
        "        lr *= 0.5e-3\n",
        "    elif epoch > 160:\n",
        "        lr *= 1e-3\n",
        "    elif epoch > 120:\n",
        "        lr *= 1e-2\n",
        "    elif epoch > 80:\n",
        "        lr *= 1e-1\n",
        "    print('Learning rate: ', lr)\n",
        "    return lr\n"
      ],
      "execution_count": 11,
      "outputs": []
    },
    {
      "cell_type": "code",
      "metadata": {
        "id": "sdnE9Sd0-NbF"
      },
      "source": [
        "# Prepare callbacks for model saving and for learning rate adjustment.\n",
        "\n",
        "early_stopping = EarlyStopping(monitor='val_loss', min_delta=0.001, patience=5, verbose=0, mode='auto', baseline=None, restore_best_weights=True)\n",
        "\n",
        "checkpoint = ModelCheckpoint(filepath=filepath,\n",
        "                             monitor='val_acc',\n",
        "                             verbose=1,\n",
        "                             save_best_only=True)\n",
        "\n",
        "lr_scheduler = LearningRateScheduler(lr_schedule)\n",
        "\n",
        "lr_reducer = ReduceLROnPlateau(factor=np.sqrt(0.1),\n",
        "                               cooldown=0,\n",
        "                               patience=5,\n",
        "                               min_lr=0.5e-6)\n",
        "\n",
        "callbacks = [checkpoint, lr_reducer, lr_scheduler,early_stopping]\n"
      ],
      "execution_count": 12,
      "outputs": []
    },
    {
      "cell_type": "code",
      "metadata": {
        "id": "AbLu2lefac_h",
        "outputId": "cb11f2a4-8243-4c65-fe20-c1c4d111db19",
        "colab": {
          "base_uri": "https://localhost:8080/"
        }
      },
      "source": [
        "#model = get_model(input_shape,num_classes)\n",
        "if model_type == 'Alexnet':\n",
        "  #input_shape = (224,224,3)\n",
        "  model = AlexnetModel(input_shape,num_classes)\n",
        "else:\n",
        "  model = get_model(input_shape,num_classes)\n",
        "\n",
        "# Compile model\n",
        "\n",
        "#optimizer = SGD(lr=lrate, momentum=0.9, decay=decay, nesterov=False)\n",
        "optimizer = Adam(lr=0.001, beta_1=0.9, beta_2=0.999, amsgrad=False)\n",
        "model.compile(loss= 'categorical_crossentropy' , optimizer=optimizer, metrics=[ 'accuracy' ])\n",
        "print(\"Model Summary of \",model_type)\n",
        "print(model.summary())\n",
        "\n"
      ],
      "execution_count": 13,
      "outputs": [
        {
          "output_type": "stream",
          "name": "stdout",
          "text": [
            "Model Summary of  Alexnet\n",
            "Model: \"sequential\"\n",
            "_________________________________________________________________\n",
            " Layer (type)                Output Shape              Param #   \n",
            "=================================================================\n",
            " conv2d (Conv2D)             (None, 8, 8, 96)          2688      \n",
            "                                                                 \n",
            " max_pooling2d (MaxPooling2D  (None, 4, 4, 96)         0         \n",
            " )                                                               \n",
            "                                                                 \n",
            " conv2d_1 (Conv2D)           (None, 4, 4, 256)         614656    \n",
            "                                                                 \n",
            " max_pooling2d_1 (MaxPooling  (None, 2, 2, 256)        0         \n",
            " 2D)                                                             \n",
            "                                                                 \n",
            " conv2d_2 (Conv2D)           (None, 2, 2, 384)         885120    \n",
            "                                                                 \n",
            " conv2d_3 (Conv2D)           (None, 2, 2, 384)         1327488   \n",
            "                                                                 \n",
            " conv2d_4 (Conv2D)           (None, 2, 2, 256)         884992    \n",
            "                                                                 \n",
            " max_pooling2d_2 (MaxPooling  (None, 1, 1, 256)        0         \n",
            " 2D)                                                             \n",
            "                                                                 \n",
            " flatten (Flatten)           (None, 256)               0         \n",
            "                                                                 \n",
            " dense (Dense)               (None, 4096)              1052672   \n",
            "                                                                 \n",
            " dropout (Dropout)           (None, 4096)              0         \n",
            "                                                                 \n",
            " dense_1 (Dense)             (None, 4096)              16781312  \n",
            "                                                                 \n",
            " dropout_1 (Dropout)         (None, 4096)              0         \n",
            "                                                                 \n",
            " dense_2 (Dense)             (None, 10)                40970     \n",
            "                                                                 \n",
            "=================================================================\n",
            "Total params: 21,589,898\n",
            "Trainable params: 21,589,898\n",
            "Non-trainable params: 0\n",
            "_________________________________________________________________\n",
            "None\n"
          ]
        },
        {
          "output_type": "stream",
          "name": "stderr",
          "text": [
            "/usr/local/lib/python3.9/dist-packages/keras/optimizers/legacy/adam.py:117: UserWarning: The `lr` argument is deprecated, use `learning_rate` instead.\n",
            "  super().__init__(name, **kwargs)\n"
          ]
        }
      ]
    },
    {
      "cell_type": "code",
      "metadata": {
        "id": "AIEd9V4KMYR7",
        "outputId": "d71b8c07-3f23-4c93-e92e-4c35fa6658c2",
        "colab": {
          "base_uri": "https://localhost:8080/"
        }
      },
      "source": [
        "if data_augmentation:\n",
        "\tprint('Using real-time data augmentation.')\n",
        "\t# This will do preprocessing and realtime data augmentation:\n",
        "\tdatagen = ImageDataGenerator(\n",
        "        featurewise_center=True,  # set input mean to 0 over the dataset\n",
        "        samplewise_center=False,  # set each sample mean to 0\n",
        "        featurewise_std_normalization=True,  # divide inputs by std of the dataset\n",
        "        samplewise_std_normalization=False,  # divide each input by its std\n",
        "        zca_whitening=False,  # apply ZCA whitening\n",
        "        zca_epsilon=1e-06,  # epsilon for ZCA whitening\n",
        "        rotation_range=20,  # randomly rotate images in the range (degrees, 0 to 180)\n",
        "        # randomly shift images horizontally (fraction of total width)\n",
        "        width_shift_range=0.2,\n",
        "        # randomly shift images vertically (fraction of total height)\n",
        "        height_shift_range=0.2,\n",
        "        shear_range=0.,  # set range for random shear\n",
        "        zoom_range=0.,  # set range for random zoom\n",
        "        channel_shift_range=0.,  # set range for random channel shifts\n",
        "        # set mode for filling points outside the input boundaries\n",
        "        fill_mode='nearest',\n",
        "        cval=0.,  # value used for fill_mode = \"constant\"\n",
        "        horizontal_flip=True,  # randomly flip images\n",
        "        vertical_flip=False,  # randomly flip images\n",
        "        # set rescaling factor (applied before any other transformation)\n",
        "        rescale=None,\n",
        "        # set function that will be applied on each input\n",
        "        preprocessing_function=None,\n",
        "        # image data format, either \"channels_first\" or \"channels_last\"\n",
        "        data_format=None,\n",
        "        # fraction of images reserved for validation (strictly between 0 and 1)\n",
        "        validation_split=0.0)\n",
        "\n",
        "    # Compute quantities required for feature-wise normalization\n",
        "    # (std, mean, and principal components if ZCA whitening is applied).\n",
        "\n",
        "\n",
        "if not flow_from_dir:\n",
        "\tif not data_augmentation:\n",
        "\t\tprint('Not using data augmentation.')\n",
        "\t\thistory = model.fit(X_train, y_train,\n",
        "          batch_size=batch_size,\n",
        "          epochs=epochs,\n",
        "          validation_data=(X_test, y_test),\n",
        "          shuffle=True,\n",
        "          callbacks=callbacks)\n",
        "\telse:   \n",
        "\t\tprint(\"model using data from downloaded dataset in memoory\")\n",
        "\t\tdatagen.fit(X_train)\n",
        "\t\t# Fit the model on the batches generated by datagen.flow().\n",
        "\t\thistory = model.fit_generator(datagen.flow(X_train, y_train,\n",
        "                                 batch_size=batch_size),\n",
        "                                 epochs=epochs,\n",
        "                                 validation_data=datagen.flow((X_test, y_test),batch_size=batch_size),\n",
        "                                 workers=4,\n",
        "                                 callbacks=callbacks)\n",
        "  \n",
        "\tscores = model.evaluate(X_test, y_test, verbose=1)\n",
        "\n",
        "else:\n",
        "\t# generator for reading train data from folder\n",
        "\n",
        "\tprint('Model fit using flow from directory')\n",
        "\n",
        "\n",
        "\ttrain_generator = datagen.flow_from_directory(\n",
        "      train_dir,\n",
        "      target_size = (224, 224),\n",
        "      color_mode = 'rgb',\n",
        "      batch_size = batch_size,\n",
        "      class_mode = 'categorical',\n",
        "      shuffle=False,\n",
        "      seed=42\n",
        "      )\n",
        "\t#\n",
        "\t# generator for reading validation data from folder\n",
        "\n",
        "\tvalidation_generator = datagen.flow_from_directory(\n",
        "      validate_dir,\n",
        "      target_size = (224, 224),\n",
        "      color_mode = 'rgb',\n",
        "      batch_size = batch_size,\n",
        "      class_mode = 'categorical',\n",
        "      shuffle=False,\n",
        "      seed=42)\n",
        "  \n",
        "\tSTEP_SIZE_TRAIN=train_generator.n//train_generator.batch_size\n",
        "\tSTEP_SIZE_VALID=validation_generator.n//validation_generator.batch_size\n",
        "  \n",
        "\thistory = model.fit_generator(generator=train_generator,\n",
        "                steps_per_epoch=STEP_SIZE_TRAIN,\n",
        "                validation_data=validation_generator,\n",
        "                validation_steps=STEP_SIZE_VALID,\n",
        "                epochs=10,\n",
        "                callbacks=callbacks\n",
        "                )\n",
        "  \n",
        "\tscores = model.evaluate_generator(generator=validation_generator,\n",
        "                           steps=STEP_SIZE_VALID, verbose=1)\n",
        "\n",
        "\t#Predict the output\n",
        "\t''' Use when to Predict the output\n",
        "\tSTEP_SIZE_TEST=test_generator.n//test_generator.batch_size\n",
        "\ttest_generator.reset()\n",
        "\tpred=model.predict_generator(test_generator,\n",
        "                               steps=STEP_SIZE_TEST,\n",
        "                               verbose=1)\n",
        "\n",
        "\t'''\n",
        "# Save model and weights\n",
        "\n",
        "\n",
        "\n",
        "# Score trained model.\n",
        "\n",
        "print('Test loss:', scores[0])\n",
        "print('Test accuracy:', scores[1])"
      ],
      "execution_count": 14,
      "outputs": [
        {
          "output_type": "stream",
          "name": "stdout",
          "text": [
            "Using real-time data augmentation.\n",
            "model using data from downloaded dataset in memoory\n",
            "Learning rate:  0.001\n",
            "Epoch 1/25\n"
          ]
        },
        {
          "output_type": "stream",
          "name": "stderr",
          "text": [
            "<ipython-input-14-29bf2adac76f>:50: UserWarning: `Model.fit_generator` is deprecated and will be removed in a future version. Please use `Model.fit`, which supports generators.\n",
            "  history = model.fit_generator(datagen.flow(X_train, y_train,\n"
          ]
        },
        {
          "output_type": "stream",
          "name": "stdout",
          "text": [
            "1560/1563 [============================>.] - ETA: 0s - loss: 1.8831 - accuracy: 0.2552"
          ]
        },
        {
          "output_type": "stream",
          "name": "stderr",
          "text": [
            "WARNING:tensorflow:Can save best model only with val_acc available, skipping.\n"
          ]
        },
        {
          "output_type": "stream",
          "name": "stdout",
          "text": [
            "\b\b\b\b\b\b\b\b\b\b\b\b\b\b\b\b\b\b\b\b\b\b\b\b\b\b\b\b\b\b\b\b\b\b\b\b\b\b\b\b\b\b\b\b\b\b\b\b\b\b\b\b\b\b\b\b\b\b\b\b\b\b\b\b\b\b\b\b\b\b\b\b\b\b\b\b\b\b\b\b\b\b\b\b\b\b\r1563/1563 [==============================] - 70s 39ms/step - loss: 1.8830 - accuracy: 0.2554 - val_loss: 1.7351 - val_accuracy: 0.3480 - lr: 0.0010\n",
            "Learning rate:  0.001\n",
            "Epoch 2/25\n",
            "1560/1563 [============================>.] - ETA: 0s - loss: 1.6396 - accuracy: 0.3822"
          ]
        },
        {
          "output_type": "stream",
          "name": "stderr",
          "text": [
            "WARNING:tensorflow:Can save best model only with val_acc available, skipping.\n"
          ]
        },
        {
          "output_type": "stream",
          "name": "stdout",
          "text": [
            "\b\b\b\b\b\b\b\b\b\b\b\b\b\b\b\b\b\b\b\b\b\b\b\b\b\b\b\b\b\b\b\b\b\b\b\b\b\b\b\b\b\b\b\b\b\b\b\b\b\b\b\b\b\b\b\b\b\b\b\b\b\b\b\b\b\b\b\b\b\b\b\b\b\b\b\b\b\b\b\b\b\b\b\b\b\b\r1563/1563 [==============================] - 64s 41ms/step - loss: 1.6393 - accuracy: 0.3824 - val_loss: 1.5299 - val_accuracy: 0.4309 - lr: 0.0010\n",
            "Learning rate:  0.001\n",
            "Epoch 3/25\n",
            "1562/1563 [============================>.] - ETA: 0s - loss: 1.5117 - accuracy: 0.4451"
          ]
        },
        {
          "output_type": "stream",
          "name": "stderr",
          "text": [
            "WARNING:tensorflow:Can save best model only with val_acc available, skipping.\n"
          ]
        },
        {
          "output_type": "stream",
          "name": "stdout",
          "text": [
            "\b\b\b\b\b\b\b\b\b\b\b\b\b\b\b\b\b\b\b\b\b\b\b\b\b\b\b\b\b\b\b\b\b\b\b\b\b\b\b\b\b\b\b\b\b\b\b\b\b\b\b\b\b\b\b\b\b\b\b\b\b\b\b\b\b\b\b\b\b\b\b\b\b\b\b\b\b\b\b\b\b\b\b\b\b\b\r1563/1563 [==============================] - 55s 35ms/step - loss: 1.5116 - accuracy: 0.4452 - val_loss: 1.4308 - val_accuracy: 0.4729 - lr: 0.0010\n",
            "Learning rate:  0.001\n",
            "Epoch 4/25\n",
            "1560/1563 [============================>.] - ETA: 0s - loss: 1.4511 - accuracy: 0.4743"
          ]
        },
        {
          "output_type": "stream",
          "name": "stderr",
          "text": [
            "WARNING:tensorflow:Can save best model only with val_acc available, skipping.\n"
          ]
        },
        {
          "output_type": "stream",
          "name": "stdout",
          "text": [
            "\b\b\b\b\b\b\b\b\b\b\b\b\b\b\b\b\b\b\b\b\b\b\b\b\b\b\b\b\b\b\b\b\b\b\b\b\b\b\b\b\b\b\b\b\b\b\b\b\b\b\b\b\b\b\b\b\b\b\b\b\b\b\b\b\b\b\b\b\b\b\b\b\b\b\b\b\b\b\b\b\b\b\b\b\b\b\r1563/1563 [==============================] - 60s 38ms/step - loss: 1.4511 - accuracy: 0.4742 - val_loss: 1.4475 - val_accuracy: 0.4731 - lr: 0.0010\n",
            "Learning rate:  0.001\n",
            "Epoch 5/25\n",
            "1560/1563 [============================>.] - ETA: 0s - loss: 1.4102 - accuracy: 0.4919"
          ]
        },
        {
          "output_type": "stream",
          "name": "stderr",
          "text": [
            "WARNING:tensorflow:Can save best model only with val_acc available, skipping.\n"
          ]
        },
        {
          "output_type": "stream",
          "name": "stdout",
          "text": [
            "\b\b\b\b\b\b\b\b\b\b\b\b\b\b\b\b\b\b\b\b\b\b\b\b\b\b\b\b\b\b\b\b\b\b\b\b\b\b\b\b\b\b\b\b\b\b\b\b\b\b\b\b\b\b\b\b\b\b\b\b\b\b\b\b\b\b\b\b\b\b\b\b\b\b\b\b\b\b\b\b\b\b\b\b\b\b\r1563/1563 [==============================] - 61s 39ms/step - loss: 1.4100 - accuracy: 0.4920 - val_loss: 1.4002 - val_accuracy: 0.4887 - lr: 0.0010\n",
            "Learning rate:  0.001\n",
            "Epoch 6/25\n",
            "1562/1563 [============================>.] - ETA: 0s - loss: 1.3665 - accuracy: 0.5123"
          ]
        },
        {
          "output_type": "stream",
          "name": "stderr",
          "text": [
            "WARNING:tensorflow:Can save best model only with val_acc available, skipping.\n"
          ]
        },
        {
          "output_type": "stream",
          "name": "stdout",
          "text": [
            "\b\b\b\b\b\b\b\b\b\b\b\b\b\b\b\b\b\b\b\b\b\b\b\b\b\b\b\b\b\b\b\b\b\b\b\b\b\b\b\b\b\b\b\b\b\b\b\b\b\b\b\b\b\b\b\b\b\b\b\b\b\b\b\b\b\b\b\b\b\b\b\b\b\b\b\b\b\b\b\b\b\b\b\b\b\b\r1563/1563 [==============================] - 61s 39ms/step - loss: 1.3664 - accuracy: 0.5123 - val_loss: 1.3824 - val_accuracy: 0.4989 - lr: 0.0010\n",
            "Learning rate:  0.001\n",
            "Epoch 7/25\n",
            "1561/1563 [============================>.] - ETA: 0s - loss: 1.3458 - accuracy: 0.5205"
          ]
        },
        {
          "output_type": "stream",
          "name": "stderr",
          "text": [
            "WARNING:tensorflow:Can save best model only with val_acc available, skipping.\n"
          ]
        },
        {
          "output_type": "stream",
          "name": "stdout",
          "text": [
            "\b\b\b\b\b\b\b\b\b\b\b\b\b\b\b\b\b\b\b\b\b\b\b\b\b\b\b\b\b\b\b\b\b\b\b\b\b\b\b\b\b\b\b\b\b\b\b\b\b\b\b\b\b\b\b\b\b\b\b\b\b\b\b\b\b\b\b\b\b\b\b\b\b\b\b\b\b\b\b\b\b\b\b\b\b\b\r1563/1563 [==============================] - 59s 37ms/step - loss: 1.3457 - accuracy: 0.5206 - val_loss: 1.3308 - val_accuracy: 0.5218 - lr: 0.0010\n",
            "Learning rate:  0.001\n",
            "Epoch 8/25\n",
            "1560/1563 [============================>.] - ETA: 0s - loss: 1.3292 - accuracy: 0.5260"
          ]
        },
        {
          "output_type": "stream",
          "name": "stderr",
          "text": [
            "WARNING:tensorflow:Can save best model only with val_acc available, skipping.\n"
          ]
        },
        {
          "output_type": "stream",
          "name": "stdout",
          "text": [
            "\b\b\b\b\b\b\b\b\b\b\b\b\b\b\b\b\b\b\b\b\b\b\b\b\b\b\b\b\b\b\b\b\b\b\b\b\b\b\b\b\b\b\b\b\b\b\b\b\b\b\b\b\b\b\b\b\b\b\b\b\b\b\b\b\b\b\b\b\b\b\b\b\b\b\b\b\b\b\b\b\b\b\b\b\b\b\r1563/1563 [==============================] - 58s 37ms/step - loss: 1.3291 - accuracy: 0.5260 - val_loss: 1.3146 - val_accuracy: 0.5326 - lr: 0.0010\n",
            "Learning rate:  0.001\n",
            "Epoch 9/25\n",
            "1561/1563 [============================>.] - ETA: 0s - loss: 1.3114 - accuracy: 0.5346"
          ]
        },
        {
          "output_type": "stream",
          "name": "stderr",
          "text": [
            "WARNING:tensorflow:Can save best model only with val_acc available, skipping.\n"
          ]
        },
        {
          "output_type": "stream",
          "name": "stdout",
          "text": [
            "\b\b\b\b\b\b\b\b\b\b\b\b\b\b\b\b\b\b\b\b\b\b\b\b\b\b\b\b\b\b\b\b\b\b\b\b\b\b\b\b\b\b\b\b\b\b\b\b\b\b\b\b\b\b\b\b\b\b\b\b\b\b\b\b\b\b\b\b\b\b\b\b\b\b\b\b\b\b\b\b\b\b\b\b\b\b\r1563/1563 [==============================] - 58s 37ms/step - loss: 1.3115 - accuracy: 0.5345 - val_loss: 1.2918 - val_accuracy: 0.5263 - lr: 0.0010\n",
            "Learning rate:  0.001\n",
            "Epoch 10/25\n",
            "1563/1563 [==============================] - ETA: 0s - loss: 1.2944 - accuracy: 0.5416"
          ]
        },
        {
          "output_type": "stream",
          "name": "stderr",
          "text": [
            "WARNING:tensorflow:Can save best model only with val_acc available, skipping.\n"
          ]
        },
        {
          "output_type": "stream",
          "name": "stdout",
          "text": [
            "\b\b\b\b\b\b\b\b\b\b\b\b\b\b\b\b\b\b\b\b\b\b\b\b\b\b\b\b\b\b\b\b\b\b\b\b\b\b\b\b\b\b\b\b\b\b\b\b\b\b\b\b\b\b\b\b\b\b\b\b\b\b\b\b\b\b\b\b\b\b\b\b\b\b\b\b\b\b\b\b\b\b\b\b\b\b\r1563/1563 [==============================] - 62s 39ms/step - loss: 1.2944 - accuracy: 0.5416 - val_loss: 1.3193 - val_accuracy: 0.5205 - lr: 0.0010\n",
            "Learning rate:  0.001\n",
            "Epoch 11/25\n",
            "1563/1563 [==============================] - ETA: 0s - loss: 1.2820 - accuracy: 0.5445"
          ]
        },
        {
          "output_type": "stream",
          "name": "stderr",
          "text": [
            "WARNING:tensorflow:Can save best model only with val_acc available, skipping.\n"
          ]
        },
        {
          "output_type": "stream",
          "name": "stdout",
          "text": [
            "\b\b\b\b\b\b\b\b\b\b\b\b\b\b\b\b\b\b\b\b\b\b\b\b\b\b\b\b\b\b\b\b\b\b\b\b\b\b\b\b\b\b\b\b\b\b\b\b\b\b\b\b\b\b\b\b\b\b\b\b\b\b\b\b\b\b\b\b\b\b\b\b\b\b\b\b\b\b\b\b\b\b\b\b\b\b\r1563/1563 [==============================] - 59s 38ms/step - loss: 1.2820 - accuracy: 0.5445 - val_loss: 1.2706 - val_accuracy: 0.5446 - lr: 0.0010\n",
            "Learning rate:  0.001\n",
            "Epoch 12/25\n",
            "1560/1563 [============================>.] - ETA: 0s - loss: 1.2661 - accuracy: 0.5525"
          ]
        },
        {
          "output_type": "stream",
          "name": "stderr",
          "text": [
            "WARNING:tensorflow:Can save best model only with val_acc available, skipping.\n"
          ]
        },
        {
          "output_type": "stream",
          "name": "stdout",
          "text": [
            "\b\b\b\b\b\b\b\b\b\b\b\b\b\b\b\b\b\b\b\b\b\b\b\b\b\b\b\b\b\b\b\b\b\b\b\b\b\b\b\b\b\b\b\b\b\b\b\b\b\b\b\b\b\b\b\b\b\b\b\b\b\b\b\b\b\b\b\b\b\b\b\b\b\b\b\b\b\b\b\b\b\b\b\b\b\b\r1563/1563 [==============================] - 57s 36ms/step - loss: 1.2663 - accuracy: 0.5524 - val_loss: 1.2592 - val_accuracy: 0.5520 - lr: 0.0010\n",
            "Learning rate:  0.001\n",
            "Epoch 13/25\n",
            "1562/1563 [============================>.] - ETA: 0s - loss: 1.2582 - accuracy: 0.5541"
          ]
        },
        {
          "output_type": "stream",
          "name": "stderr",
          "text": [
            "WARNING:tensorflow:Can save best model only with val_acc available, skipping.\n"
          ]
        },
        {
          "output_type": "stream",
          "name": "stdout",
          "text": [
            "\b\b\b\b\b\b\b\b\b\b\b\b\b\b\b\b\b\b\b\b\b\b\b\b\b\b\b\b\b\b\b\b\b\b\b\b\b\b\b\b\b\b\b\b\b\b\b\b\b\b\b\b\b\b\b\b\b\b\b\b\b\b\b\b\b\b\b\b\b\b\b\b\b\b\b\b\b\b\b\b\b\b\b\b\b\b\r1563/1563 [==============================] - 58s 37ms/step - loss: 1.2585 - accuracy: 0.5540 - val_loss: 1.2345 - val_accuracy: 0.5542 - lr: 0.0010\n",
            "Learning rate:  0.001\n",
            "Epoch 14/25\n",
            "1561/1563 [============================>.] - ETA: 0s - loss: 1.2499 - accuracy: 0.5605"
          ]
        },
        {
          "output_type": "stream",
          "name": "stderr",
          "text": [
            "WARNING:tensorflow:Can save best model only with val_acc available, skipping.\n"
          ]
        },
        {
          "output_type": "stream",
          "name": "stdout",
          "text": [
            "\b\b\b\b\b\b\b\b\b\b\b\b\b\b\b\b\b\b\b\b\b\b\b\b\b\b\b\b\b\b\b\b\b\b\b\b\b\b\b\b\b\b\b\b\b\b\b\b\b\b\b\b\b\b\b\b\b\b\b\b\b\b\b\b\b\b\b\b\b\b\b\b\b\b\b\b\b\b\b\b\b\b\b\b\b\b\r1563/1563 [==============================] - 59s 38ms/step - loss: 1.2497 - accuracy: 0.5605 - val_loss: 1.2268 - val_accuracy: 0.5660 - lr: 0.0010\n",
            "Learning rate:  0.001\n",
            "Epoch 15/25\n",
            "1560/1563 [============================>.] - ETA: 0s - loss: 1.2342 - accuracy: 0.5640"
          ]
        },
        {
          "output_type": "stream",
          "name": "stderr",
          "text": [
            "WARNING:tensorflow:Can save best model only with val_acc available, skipping.\n"
          ]
        },
        {
          "output_type": "stream",
          "name": "stdout",
          "text": [
            "\b\b\b\b\b\b\b\b\b\b\b\b\b\b\b\b\b\b\b\b\b\b\b\b\b\b\b\b\b\b\b\b\b\b\b\b\b\b\b\b\b\b\b\b\b\b\b\b\b\b\b\b\b\b\b\b\b\b\b\b\b\b\b\b\b\b\b\b\b\b\b\b\b\b\b\b\b\b\b\b\b\b\b\b\b\b\r1563/1563 [==============================] - 58s 37ms/step - loss: 1.2345 - accuracy: 0.5639 - val_loss: 1.2630 - val_accuracy: 0.5557 - lr: 0.0010\n",
            "Learning rate:  0.001\n",
            "Epoch 16/25\n",
            "1561/1563 [============================>.] - ETA: 0s - loss: 1.2303 - accuracy: 0.5695"
          ]
        },
        {
          "output_type": "stream",
          "name": "stderr",
          "text": [
            "WARNING:tensorflow:Can save best model only with val_acc available, skipping.\n"
          ]
        },
        {
          "output_type": "stream",
          "name": "stdout",
          "text": [
            "\b\b\b\b\b\b\b\b\b\b\b\b\b\b\b\b\b\b\b\b\b\b\b\b\b\b\b\b\b\b\b\b\b\b\b\b\b\b\b\b\b\b\b\b\b\b\b\b\b\b\b\b\b\b\b\b\b\b\b\b\b\b\b\b\b\b\b\b\b\b\b\b\b\b\b\b\b\b\b\b\b\b\b\b\b\b\r1563/1563 [==============================] - 58s 37ms/step - loss: 1.2304 - accuracy: 0.5696 - val_loss: 1.2409 - val_accuracy: 0.5612 - lr: 0.0010\n",
            "Learning rate:  0.001\n",
            "Epoch 17/25\n",
            "1560/1563 [============================>.] - ETA: 0s - loss: 1.2213 - accuracy: 0.5726"
          ]
        },
        {
          "output_type": "stream",
          "name": "stderr",
          "text": [
            "WARNING:tensorflow:Can save best model only with val_acc available, skipping.\n"
          ]
        },
        {
          "output_type": "stream",
          "name": "stdout",
          "text": [
            "\b\b\b\b\b\b\b\b\b\b\b\b\b\b\b\b\b\b\b\b\b\b\b\b\b\b\b\b\b\b\b\b\b\b\b\b\b\b\b\b\b\b\b\b\b\b\b\b\b\b\b\b\b\b\b\b\b\b\b\b\b\b\b\b\b\b\b\b\b\b\b\b\b\b\b\b\b\b\b\b\b\b\b\b\b\b\r1563/1563 [==============================] - 60s 38ms/step - loss: 1.2213 - accuracy: 0.5726 - val_loss: 1.2163 - val_accuracy: 0.5752 - lr: 0.0010\n",
            "Learning rate:  0.001\n",
            "Epoch 18/25\n",
            "1561/1563 [============================>.] - ETA: 0s - loss: 1.2120 - accuracy: 0.5762"
          ]
        },
        {
          "output_type": "stream",
          "name": "stderr",
          "text": [
            "WARNING:tensorflow:Can save best model only with val_acc available, skipping.\n"
          ]
        },
        {
          "output_type": "stream",
          "name": "stdout",
          "text": [
            "\b\b\b\b\b\b\b\b\b\b\b\b\b\b\b\b\b\b\b\b\b\b\b\b\b\b\b\b\b\b\b\b\b\b\b\b\b\b\b\b\b\b\b\b\b\b\b\b\b\b\b\b\b\b\b\b\b\b\b\b\b\b\b\b\b\b\b\b\b\b\b\b\b\b\b\b\b\b\b\b\b\b\b\b\b\b\r1563/1563 [==============================] - 58s 37ms/step - loss: 1.2118 - accuracy: 0.5762 - val_loss: 1.2288 - val_accuracy: 0.5679 - lr: 0.0010\n",
            "Learning rate:  0.001\n",
            "Epoch 19/25\n",
            "1563/1563 [==============================] - ETA: 0s - loss: 1.2032 - accuracy: 0.5796"
          ]
        },
        {
          "output_type": "stream",
          "name": "stderr",
          "text": [
            "WARNING:tensorflow:Can save best model only with val_acc available, skipping.\n"
          ]
        },
        {
          "output_type": "stream",
          "name": "stdout",
          "text": [
            "\b\b\b\b\b\b\b\b\b\b\b\b\b\b\b\b\b\b\b\b\b\b\b\b\b\b\b\b\b\b\b\b\b\b\b\b\b\b\b\b\b\b\b\b\b\b\b\b\b\b\b\b\b\b\b\b\b\b\b\b\b\b\b\b\b\b\b\b\b\b\b\b\b\b\b\b\b\b\b\b\b\b\b\b\b\b\r1563/1563 [==============================] - 58s 37ms/step - loss: 1.2032 - accuracy: 0.5796 - val_loss: 1.2107 - val_accuracy: 0.5724 - lr: 0.0010\n",
            "Learning rate:  0.001\n",
            "Epoch 20/25\n",
            "1563/1563 [==============================] - ETA: 0s - loss: 1.1917 - accuracy: 0.5822"
          ]
        },
        {
          "output_type": "stream",
          "name": "stderr",
          "text": [
            "WARNING:tensorflow:Can save best model only with val_acc available, skipping.\n"
          ]
        },
        {
          "output_type": "stream",
          "name": "stdout",
          "text": [
            "\b\b\b\b\b\b\b\b\b\b\b\b\b\b\b\b\b\b\b\b\b\b\b\b\b\b\b\b\b\b\b\b\b\b\b\b\b\b\b\b\b\b\b\b\b\b\b\b\b\b\b\b\b\b\b\b\b\b\b\b\b\b\b\b\b\b\b\b\b\b\b\b\b\b\b\b\b\b\b\b\b\b\b\b\b\b\r1563/1563 [==============================] - 61s 39ms/step - loss: 1.1917 - accuracy: 0.5822 - val_loss: 1.2063 - val_accuracy: 0.5758 - lr: 0.0010\n",
            "Learning rate:  0.001\n",
            "Epoch 21/25\n",
            "1561/1563 [============================>.] - ETA: 0s - loss: 1.1964 - accuracy: 0.5843"
          ]
        },
        {
          "output_type": "stream",
          "name": "stderr",
          "text": [
            "WARNING:tensorflow:Can save best model only with val_acc available, skipping.\n"
          ]
        },
        {
          "output_type": "stream",
          "name": "stdout",
          "text": [
            "\b\b\b\b\b\b\b\b\b\b\b\b\b\b\b\b\b\b\b\b\b\b\b\b\b\b\b\b\b\b\b\b\b\b\b\b\b\b\b\b\b\b\b\b\b\b\b\b\b\b\b\b\b\b\b\b\b\b\b\b\b\b\b\b\b\b\b\b\b\b\b\b\b\b\b\b\b\b\b\b\b\b\b\b\b\b\r1563/1563 [==============================] - 59s 38ms/step - loss: 1.1965 - accuracy: 0.5842 - val_loss: 1.1856 - val_accuracy: 0.5805 - lr: 0.0010\n",
            "Learning rate:  0.001\n",
            "Epoch 22/25\n",
            "1563/1563 [==============================] - ETA: 0s - loss: 1.1886 - accuracy: 0.5866"
          ]
        },
        {
          "output_type": "stream",
          "name": "stderr",
          "text": [
            "WARNING:tensorflow:Can save best model only with val_acc available, skipping.\n"
          ]
        },
        {
          "output_type": "stream",
          "name": "stdout",
          "text": [
            "\b\b\b\b\b\b\b\b\b\b\b\b\b\b\b\b\b\b\b\b\b\b\b\b\b\b\b\b\b\b\b\b\b\b\b\b\b\b\b\b\b\b\b\b\b\b\b\b\b\b\b\b\b\b\b\b\b\b\b\b\b\b\b\b\b\b\b\b\b\b\b\b\b\b\b\b\b\b\b\b\b\b\b\b\b\b\r1563/1563 [==============================] - 57s 37ms/step - loss: 1.1886 - accuracy: 0.5866 - val_loss: 1.1952 - val_accuracy: 0.5827 - lr: 0.0010\n",
            "Learning rate:  0.001\n",
            "Epoch 23/25\n",
            "1561/1563 [============================>.] - ETA: 0s - loss: 1.1859 - accuracy: 0.5877"
          ]
        },
        {
          "output_type": "stream",
          "name": "stderr",
          "text": [
            "WARNING:tensorflow:Can save best model only with val_acc available, skipping.\n"
          ]
        },
        {
          "output_type": "stream",
          "name": "stdout",
          "text": [
            "\b\b\b\b\b\b\b\b\b\b\b\b\b\b\b\b\b\b\b\b\b\b\b\b\b\b\b\b\b\b\b\b\b\b\b\b\b\b\b\b\b\b\b\b\b\b\b\b\b\b\b\b\b\b\b\b\b\b\b\b\b\b\b\b\b\b\b\b\b\b\b\b\b\b\b\b\b\b\b\b\b\b\b\b\b\b\r1563/1563 [==============================] - 58s 37ms/step - loss: 1.1860 - accuracy: 0.5876 - val_loss: 1.1626 - val_accuracy: 0.5850 - lr: 0.0010\n",
            "Learning rate:  0.001\n",
            "Epoch 24/25\n",
            "1562/1563 [============================>.] - ETA: 0s - loss: 1.1819 - accuracy: 0.5914"
          ]
        },
        {
          "output_type": "stream",
          "name": "stderr",
          "text": [
            "WARNING:tensorflow:Can save best model only with val_acc available, skipping.\n"
          ]
        },
        {
          "output_type": "stream",
          "name": "stdout",
          "text": [
            "\b\b\b\b\b\b\b\b\b\b\b\b\b\b\b\b\b\b\b\b\b\b\b\b\b\b\b\b\b\b\b\b\b\b\b\b\b\b\b\b\b\b\b\b\b\b\b\b\b\b\b\b\b\b\b\b\b\b\b\b\b\b\b\b\b\b\b\b\b\b\b\b\b\b\b\b\b\b\b\b\b\b\b\b\b\b\r1563/1563 [==============================] - 57s 37ms/step - loss: 1.1818 - accuracy: 0.5914 - val_loss: 1.1760 - val_accuracy: 0.5859 - lr: 0.0010\n",
            "Learning rate:  0.001\n",
            "Epoch 25/25\n",
            "1561/1563 [============================>.] - ETA: 0s - loss: 1.1737 - accuracy: 0.5932"
          ]
        },
        {
          "output_type": "stream",
          "name": "stderr",
          "text": [
            "WARNING:tensorflow:Can save best model only with val_acc available, skipping.\n"
          ]
        },
        {
          "output_type": "stream",
          "name": "stdout",
          "text": [
            "1563/1563 [==============================] - 57s 37ms/step - loss: 1.1736 - accuracy: 0.5933 - val_loss: 1.1593 - val_accuracy: 0.5924 - lr: 0.0010\n",
            "313/313 [==============================] - 2s 4ms/step - loss: 96.8965 - accuracy: 0.2521\n",
            "Test loss: 96.89653778076172\n",
            "Test accuracy: 0.25209999084472656\n"
          ]
        }
      ]
    },
    {
      "cell_type": "code",
      "source": [
        "print('Test loss:', scores[0])\n",
        "print('Test accuracy:', scores[1])"
      ],
      "metadata": {
        "colab": {
          "base_uri": "https://localhost:8080/"
        },
        "id": "ttcrHhlaC26h",
        "outputId": "65b1ebff-cc5d-414a-da5f-fcfe051edc02"
      },
      "execution_count": 15,
      "outputs": [
        {
          "output_type": "stream",
          "name": "stdout",
          "text": [
            "Test loss: 96.89653778076172\n",
            "Test accuracy: 0.25209999084472656\n"
          ]
        }
      ]
    },
    {
      "cell_type": "code",
      "metadata": {
        "id": "T95kj0_iP54_",
        "outputId": "7606c68e-4fea-4cd2-ddad-628c24906f6b",
        "colab": {
          "base_uri": "https://localhost:8080/",
          "height": 945
        }
      },
      "source": [
        "# list all data in history\n",
        "print(history.history.keys())\n",
        "# summarize history for accuracy\n",
        "plt.plot(history.history['accuracy'])\n",
        "plt.plot(history.history['val_accuracy'])\n",
        "plt.title('model accuracy')\n",
        "plt.ylabel('accuracy')\n",
        "plt.xlabel('epoch')\n",
        "plt.legend(['train', 'test'], loc='upper left')\n",
        "plt.show()\n",
        "# summarize history for loss\n",
        "plt.plot(history.history['loss'])\n",
        "plt.plot(history.history['val_loss'])\n",
        "plt.title('model loss')\n",
        "plt.ylabel('loss')\n",
        "plt.xlabel('epoch')\n",
        "plt.legend(['train', 'test'], loc='upper left')\n",
        "plt.show()"
      ],
      "execution_count": 16,
      "outputs": [
        {
          "output_type": "stream",
          "name": "stdout",
          "text": [
            "dict_keys(['loss', 'accuracy', 'val_loss', 'val_accuracy', 'lr'])\n"
          ]
        },
        {
          "output_type": "display_data",
          "data": {
            "text/plain": [
              "<Figure size 640x480 with 1 Axes>"
            ],
            "image/png": "[encoded data removed]"
          },
          "metadata": {}
        },
        {
          "output_type": "display_data",
          "data": {
            "text/plain": [
              "<Figure size 640x480 with 1 Axes>"
            ],
            "image/png": "[encoded data removed]"
          },
          "metadata": {}
        }
      ]
    },
    {
      "cell_type": "code",
      "source": [
        "y_pred=model.predict(X_test)\n",
        "y_preds = y_pred.argmax(axis=1)\n",
        "y_test2 = y_test.argmax(axis=1)\n",
        "print(y_preds.shape)\n",
        "print(y_test2.shape)\n",
        "\n"
      ],
      "metadata": {
        "id": "qt02Q4rr9qiY",
        "outputId": "2ef7853a-e421-4482-c227-d9aa9f05c8dc",
        "colab": {
          "base_uri": "https://localhost:8080/"
        }
      },
      "execution_count": 20,
      "outputs": [
        {
          "output_type": "stream",
          "name": "stdout",
          "text": [
            "313/313 [==============================] - 1s 3ms/step\n",
            "(10000,)\n",
            "(10000,)\n"
          ]
        }
      ]
    },
    {
      "cell_type": "code",
      "source": [
        "cm = confusion_matrix(y_test2, y_preds)\n",
        "disp = ConfusionMatrixDisplay(confusion_matrix=cm)\n",
        "disp.plot()\n",
        "plt.show()"
      ],
      "metadata": {
        "id": "GWivjnJh-Cf1",
        "outputId": "91cc8e6e-7659-4a36-a94c-abaeccfbe9d1",
        "colab": {
          "base_uri": "https://localhost:8080/",
          "height": 449
        }
      },
      "execution_count": 22,
      "outputs": [
        {
          "output_type": "display_data",
          "data": {
            "text/plain": [
              "<Figure size 640x480 with 2 Axes>"
            ],
            "image/png": "[encoded data removed]"
          },
          "metadata": {}
        }
      ]
    },
    {
      "cell_type": "code",
      "source": [
        "print(classification_report(y_test, y_preds))"
      ],
      "metadata": {
        "id": "C5Su8y-fT33B"
      },
      "execution_count": null,
      "outputs": []
    },
    {
      "cell_type": "code",
      "source": [
        "\n",
        "\n",
        "\n"
      ],
      "metadata": {
        "id": "8k8Sm-kxWS0r"
      },
      "execution_count": null,
      "outputs": []
    }
  ]
}